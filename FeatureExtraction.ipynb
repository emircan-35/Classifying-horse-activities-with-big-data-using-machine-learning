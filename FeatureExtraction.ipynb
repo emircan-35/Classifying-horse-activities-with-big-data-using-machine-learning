{
 "cells": [
  {
   "cell_type": "code",
   "execution_count": 8,
   "id": "2b531e1f",
   "metadata": {},
   "outputs": [],
   "source": [
    "def filter(df):\n",
    "    sos = signal.butter(N=3, Wn=30, btype='lowpass', fs=100, output='sos')\n",
    "    df['Ax'] = signal.sosfilt(sos, df['Ax'])\n",
    "    df['Ay'] = signal.sosfilt(sos, df['Ay'])\n",
    "    df['Az'] = signal.sosfilt(sos, df['Az'])\n",
    "    return df\n",
    "    "
   ]
  },
  {
   "cell_type": "code",
   "execution_count": 9,
   "id": "cdec5d40",
   "metadata": {},
   "outputs": [],
   "source": [
    "def create_windows(df, time_steps, step):\n",
    "    windows = []\n",
    "    labels=[]\n",
    "    for i in range(0, len(df)-time_steps, step):\n",
    "        axs = df['Ax'].values[i: i + time_steps]\n",
    "        ays = df['Ay'].values[i: i + time_steps]\n",
    "        azs = df['Az'].values[i: i + time_steps]\n",
    "        # Retrieve the most often used label in this segment\n",
    "        labels.append(stats.mode(df['label'][i: i + time_steps])[0][0])\n",
    "        windows.append([axs, ays, azs])\n",
    "\n",
    "    # Bring the segments into a better shape\n",
    "    reshaped_windows = np.asarray(windows, dtype= np.float32).reshape(-1, time_steps, N_FEATURES)\n",
    "    labels = np.asarray(labels)\n",
    "    return reshaped_windows, labels"
   ]
  },
  {
   "cell_type": "code",
   "execution_count": 7,
   "id": "acef9ed5",
   "metadata": {},
   "outputs": [],
   "source": [
    "def getStatisticalFeatures(data,name):\n",
    "    columns=['mean'+name,'std'+name,'median'+name,'cov'+name,'twf_perc'+name,'svf_perc'+name,'maxi'+name,'mini'+name,'skewness'+name,'kurt'+name]\n",
    "    res=pd.DataFrame(columns=columns)\n",
    "    for i, window in enumerate(data):\n",
    "        windowFlatten=window.flatten()\n",
    "        maxi=np.amax(window)\n",
    "        mini=np.amin(window)\n",
    "        mean=np.mean(window, axis=None)\n",
    "        std=np.std(window, axis=None)\n",
    "        median=np.median(window, axis=None)\n",
    "        cov=np.sqrt(std)\n",
    "        twf_perc=np.percentile(window, 25, axis=None)\n",
    "        svf_perc=np.percentile(window, 75, axis=None)\n",
    "        skewness=skew(window)\n",
    "        kurt=kurtosis(window)\n",
    "        zero_crossings = len(np.where(np.diff(np.sign(windowFlatten)))[0])\n",
    "        peak=len(signal.find_peaks(windowFlatten))\n",
    "        rms=np.sqrt(np.mean(np.square(windowFlatten)))\n",
    "        sampleEntropy=ant.sample_entropy(windowFlatten)\n",
    "        spectralEntropy=ant.spectral_entropy(windowFlatten, sf=100, method='welch', normalize=True)\n",
    "        crestFact=max(windowFlatten/rms)\n",
    "        energy=np.sum(np.square(windowFlatten))\n",
    "        res=res.append({'mean'+name:mean,\n",
    "                    'std'+name:std,\n",
    "                    'median'+name:median,\n",
    "                    'cov'+name:cov,\n",
    "                    'twf_perc'+name:twf_perc,\n",
    "                    'svf_perc'+name:svf_perc,\n",
    "                    'maxi'+name:maxi,\n",
    "                    'mini'+name:mini,\n",
    "                    'skewness'+name:skewness[0],\n",
    "                    'kurt'+name:kurt[0],\n",
    "                    'zeroCross'+name:zero_crossings,\n",
    "                    'energy'+name: energy,\n",
    "                    'peak'+name:peak,\n",
    "                    'rms'+name: rms,\n",
    "                    'sampleEntropy'+name:sampleEntropy,\n",
    "                    'spectralEntropy'+name:spectralEntropy,\n",
    "                    'crestFact'+name:crestFact},ignore_index=True)\n",
    "    return res\n"
   ]
  },
  {
   "cell_type": "code",
   "execution_count": 11,
   "id": "4b63e736",
   "metadata": {},
   "outputs": [],
   "source": [
    "def reshape_input(x,shape): #??????\n",
    "    result=x.reshape(x.shape[0],shape)\n",
    "    return result"
   ]
  },
  {
   "cell_type": "code",
   "execution_count": 8,
   "id": "1caced90",
   "metadata": {},
   "outputs": [],
   "source": [
    "def featureExtraction(df):\n",
    "    dataWindowed,labels=create_windows(df, TIME_PERIODS,STEP_DISTANCE)\n",
    "    statistics=[]\n",
    "    statistics.append(getStatisticalFeatures(dataWindowed[:,:,0:1],'_Ax'))\n",
    "    statistics.append(getStatisticalFeatures(dataWindowed[:,:,1:2],'_AY'))\n",
    "    statistics.append(getStatisticalFeatures(dataWindowed[:,:,2:3],'_Az'))\n",
    "    result=statistics[0]\n",
    "    result=statistics[0].merge(statistics[1],right_index=True,left_index=True)\n",
    "    result=result.merge(statistics[2],right_index=True,left_index=True)\n",
    "    result['label']=labels\n",
    "    result['ActivityEncoded'] = le.fit_transform(result['label'].values.ravel())\n",
    "    return result"
   ]
  },
  {
   "cell_type": "code",
   "execution_count": 5,
   "id": "a65f686a",
   "metadata": {},
   "outputs": [],
   "source": [
    "def getStatistics():\n",
    "    files = sorted(glob.glob(\"C:\\\\Users\\\\emirc\\\\Desktop\\\\AAR\\\\codes\\\\statistics/*\"))\n",
    "    statistics={}\n",
    "    for file in files:\n",
    "        df=pd.read_csv(file)\n",
    "        statistics[file.split('\\\\')[len(file.split('\\\\'))-1]]=df\n",
    "        \n",
    "    return statistics"
   ]
  },
  {
   "cell_type": "code",
   "execution_count": null,
   "id": "e251a6a2",
   "metadata": {},
   "outputs": [],
   "source": []
  },
  {
   "cell_type": "code",
   "execution_count": null,
   "id": "60a7dce7",
   "metadata": {},
   "outputs": [],
   "source": []
  },
  {
   "cell_type": "code",
   "execution_count": null,
   "id": "8c322cf6",
   "metadata": {},
   "outputs": [],
   "source": []
  }
 ],
 "metadata": {
  "kernelspec": {
   "display_name": "Python 3 (ipykernel)",
   "language": "python",
   "name": "python3"
  },
  "language_info": {
   "codemirror_mode": {
    "name": "ipython",
    "version": 3
   },
   "file_extension": ".py",
   "mimetype": "text/x-python",
   "name": "python",
   "nbconvert_exporter": "python",
   "pygments_lexer": "ipython3",
   "version": "3.9.6"
  }
 },
 "nbformat": 4,
 "nbformat_minor": 5
}
