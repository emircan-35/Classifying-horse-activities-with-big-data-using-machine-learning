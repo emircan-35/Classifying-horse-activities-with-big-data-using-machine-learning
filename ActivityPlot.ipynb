{
 "cells": [
  {
   "cell_type": "code",
   "execution_count": 4,
   "id": "8736bbe0",
   "metadata": {},
   "outputs": [],
   "source": [
    "def plot(data,subject):\n",
    "    for label in LABELS:\n",
    "        plt.figure(figsize=(12, 8))\n",
    "        plt.rcParams.update({'font.size': 30})\n",
    "        plt.rcParams.update({'font.family':'Calibri'})\n",
    "        plt.rcParams.update({'font.weight': 'bold'})\n",
    "        df=splitByActivity(data,label)\n",
    "        aX=df['Ax'].to_numpy()\n",
    "        aY=df['Ay'].to_numpy()\n",
    "        aZ=df['Az'].to_numpy()\n",
    "        aX=aX[0:201]\n",
    "        aY=aY[0:201]\n",
    "        aZ=aZ[0:201]\n",
    "        if label==\"grazing-eating\":\n",
    "            plt.title(\"grazing\")\n",
    "        elif label==\"running\":\n",
    "            plt.title(\"galloping\")\n",
    "        else:\n",
    "            plt.title(label)\n",
    "        plt.ylabel(\"Accelaration\")\n",
    "        plt.xlabel(\"Time (s)\")\n",
    "        plt.plot(aX,color='red',label=\"Ax\")\n",
    "        plt.plot(aY,color='green',label=\"Ay\")\n",
    "        plt.plot(aZ,color='blue',label=\"Az\")\n",
    "        plt.legend(loc=\"lower right\")\n",
    "        plt.ylim([-40, 40])\n",
    "        plt.savefig('C:\\\\Users\\\\emirc\\\\Desktop\\\\AAR\\\\codes\\\\plots\\\\'+subject+label+'.png',dpi=600,bbox_inches='tight')\n",
    "        plt.clf()"
   ]
  },
  {
   "cell_type": "code",
   "execution_count": 5,
   "id": "f71af1f8",
   "metadata": {},
   "outputs": [],
   "source": [
    "def splitByActivity(df, activity):\n",
    "    return df[df['label'].isin([activity])]"
   ]
  },
  {
   "cell_type": "code",
   "execution_count": null,
   "id": "afeba41e",
   "metadata": {},
   "outputs": [],
   "source": []
  },
  {
   "cell_type": "code",
   "execution_count": null,
   "id": "8c068370",
   "metadata": {},
   "outputs": [],
   "source": []
  },
  {
   "cell_type": "code",
   "execution_count": null,
   "id": "10490a27",
   "metadata": {},
   "outputs": [],
   "source": []
  },
  {
   "cell_type": "code",
   "execution_count": null,
   "id": "32c68477",
   "metadata": {},
   "outputs": [],
   "source": []
  },
  {
   "cell_type": "code",
   "execution_count": null,
   "id": "1c7ea7b0",
   "metadata": {},
   "outputs": [],
   "source": []
  }
 ],
 "metadata": {
  "kernelspec": {
   "display_name": "Python 3 (ipykernel)",
   "language": "python",
   "name": "python3"
  },
  "language_info": {
   "codemirror_mode": {
    "name": "ipython",
    "version": 3
   },
   "file_extension": ".py",
   "mimetype": "text/x-python",
   "name": "python",
   "nbconvert_exporter": "python",
   "pygments_lexer": "ipython3",
   "version": "3.9.6"
  }
 },
 "nbformat": 4,
 "nbformat_minor": 5
}
